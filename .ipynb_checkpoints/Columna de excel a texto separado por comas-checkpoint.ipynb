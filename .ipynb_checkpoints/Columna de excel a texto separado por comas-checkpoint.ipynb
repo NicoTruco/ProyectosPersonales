{
 "cells": [
  {
   "cell_type": "code",
   "execution_count": 2,
   "id": "666aff13",
   "metadata": {},
   "outputs": [],
   "source": [
    "#importando librerias\n",
    "import pandas as pd\n",
    "import numpy as np"
   ]
  },
  {
   "cell_type": "code",
   "execution_count": 14,
   "id": "08dfd9aa",
   "metadata": {},
   "outputs": [
    {
     "name": "stdout",
     "output_type": "stream",
     "text": [
      "ingrese el nombre del archivo sin extension: prueba\n"
     ]
    }
   ],
   "source": [
    "#abriendo el archivo\n",
    "archivo=input(\"ingrese el nombre del archivo sin extension: \")\n",
    "datos=pd.read_excel(archivo+\".xlsx\")"
   ]
  },
  {
   "cell_type": "code",
   "execution_count": 27,
   "id": "ae3d445c",
   "metadata": {},
   "outputs": [],
   "source": [
    "#transformar filas en la columna a un str separado por comas\n",
    "columna=datos.columns.values[0]\n",
    "salida=\"\"\n",
    "for i in datos[columna]:\n",
    "    salida=salida+i+\",\"\n"
   ]
  },
  {
   "cell_type": "code",
   "execution_count": 30,
   "id": "f5fed119",
   "metadata": {},
   "outputs": [],
   "source": [
    "#escritura de archivo\n",
    "\n",
    "archivo=open(\"texto1.txt\",\"w\")\n",
    "archivo.write(salida)\n",
    "archivo.close()"
   ]
  },
  {
   "cell_type": "code",
   "execution_count": null,
   "id": "af4773e7",
   "metadata": {},
   "outputs": [],
   "source": []
  }
 ],
 "metadata": {
  "kernelspec": {
   "display_name": "Python 3",
   "language": "python",
   "name": "python3"
  },
  "language_info": {
   "codemirror_mode": {
    "name": "ipython",
    "version": 3
   },
   "file_extension": ".py",
   "mimetype": "text/x-python",
   "name": "python",
   "nbconvert_exporter": "python",
   "pygments_lexer": "ipython3",
   "version": "3.8.8"
  }
 },
 "nbformat": 4,
 "nbformat_minor": 5
}
